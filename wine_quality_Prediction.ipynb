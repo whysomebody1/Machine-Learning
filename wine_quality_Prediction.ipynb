{
  "nbformat": 4,
  "nbformat_minor": 0,
  "metadata": {
    "colab": {
      "provenance": [],
      "include_colab_link": true
    },
    "kernelspec": {
      "name": "python3",
      "display_name": "Python 3"
    },
    "language_info": {
      "name": "python"
    }
  },
  "cells": [
    {
      "cell_type": "markdown",
      "metadata": {
        "id": "view-in-github",
        "colab_type": "text"
      },
      "source": [
        "<a href=\"https://colab.research.google.com/github/whysomebody1/Machine-Learning/blob/main/wine_quality_Prediction.ipynb\" target=\"_parent\"><img src=\"https://colab.research.google.com/assets/colab-badge.svg\" alt=\"Open In Colab\"/></a>"
      ]
    },
    {
      "cell_type": "code",
      "source": [
        "# Import necessary libraries\n",
        "import pandas as pd\n",
        "from sklearn.model_selection import train_test_split\n",
        "from sklearn.preprocessing import StandardScaler\n",
        "from sklearn.linear_model import Ridge, Lasso\n",
        "from sklearn.svm import SVR\n",
        "from sklearn.metrics import mean_squared_error, r2_score\n",
        "\n",
        "# Load the dataset from a publicly available source\n",
        "url = \"https://archive.ics.uci.edu/ml/machine-learning-databases/wine-quality/winequality-red.csv\"\n",
        "data = pd.read_csv(url, sep=';')\n",
        "\n",
        "# Separate features and target variable\n",
        "X = data.drop('quality', axis=1)\n",
        "y = data['quality']\n",
        "\n",
        "# Split the dataset into training and testing sets\n",
        "X_train, X_test, y_train, y_test = train_test_split(X, y, test_size=0.2, random_state=42)\n",
        "\n",
        "# Standardize features to have mean of 0 and variance of 1\n",
        "scaler = StandardScaler()\n",
        "X_train_scaled = scaler.fit_transform(X_train)\n",
        "X_test_scaled = scaler.transform(X_test)\n",
        "\n",
        "# Implement Ridge Regression\n",
        "ridge = Ridge(alpha=1.0)\n",
        "ridge.fit(X_train_scaled, y_train)\n",
        "ridge_pred = ridge.predict(X_test_scaled)\n",
        "ridge_mse = mean_squared_error(y_test, ridge_pred)\n",
        "ridge_r2 = r2_score(y_test, ridge_pred)\n",
        "print(\"Ridge Regression Mean Squared Error (MSE):\", ridge_mse)\n",
        "print(\"Ridge Regression R-squared:\", ridge_r2)\n",
        "\n",
        "# Implement Lasso Regression\n",
        "lasso = Lasso(alpha=1.0)\n",
        "lasso.fit(X_train_scaled, y_train)\n",
        "lasso_pred = lasso.predict(X_test_scaled)\n",
        "lasso_mse = mean_squared_error(y_test, lasso_pred)\n",
        "lasso_r2 = r2_score(y_test, lasso_pred)\n",
        "print(\"Lasso Regression Mean Squared Error (MSE):\", lasso_mse)\n",
        "print(\"Lasso Regression R-squared:\", lasso_r2)\n",
        "\n",
        "# Implement Support Vector Regression (SVR)\n",
        "svr = SVR(kernel='linear', C=1.0, epsilon=0.1)\n",
        "svr.fit(X_train_scaled, y_train)\n",
        "svr_pred = svr.predict(X_test_scaled)\n",
        "svr_mse = mean_squared_error(y_test, svr_pred)\n",
        "svr_r2 = r2_score(y_test, svr_pred)\n",
        "print(\"SVR Mean Squared Error (MSE):\", svr_mse)\n",
        "print(\"SVR R-squared:\", svr_r2)"
      ],
      "metadata": {
        "colab": {
          "base_uri": "https://localhost:8080/"
        },
        "id": "Aj_ZJEiR7YVw",
        "outputId": "f7987936-6f3e-4b75-cf58-00c1206133af"
      },
      "execution_count": null,
      "outputs": [
        {
          "output_type": "stream",
          "name": "stdout",
          "text": [
            "Ridge Regression Mean Squared Error (MSE): 0.39003800591460774\n",
            "Ridge Regression R-squared: 0.4031606598177524\n",
            "Lasso Regression Mean Squared Error (MSE): 0.6571600689645265\n",
            "Lasso Regression R-squared: -0.005591701339940913\n",
            "SVR Mean Squared Error (MSE): 0.39663419885253093\n",
            "SVR R-squared: 0.3930671115453136\n"
          ]
        }
      ]
    },
    {
      "cell_type": "code",
      "source": [
        "import pandas as pd\n",
        "from sklearn.model_selection import train_test_split\n",
        "from sklearn.preprocessing import StandardScaler\n",
        "\n",
        "# Step 1: Load the dataset\n",
        "url = \"https://archive.ics.uci.edu/ml/machine-learning-databases/wine-quality/winequality-red.csv\"\n",
        "data = pd.read_csv(url, sep=';')\n",
        "\n",
        "# Step 2: Explore the dataset\n",
        "print(data.head())  # Display the first few rows\n",
        "print(data.info())  # Display information about the dataset\n",
        "print(data.describe())  # Statistical summary of the dataset\n",
        "\n",
        "# Step 3: Handle missing values (if any)\n",
        "print(data.isnull().sum())  # Check for missing values\n",
        "# If there are missing values, decide on a strategy to handle them (e.g., imputation or removal)\n",
        "\n",
        "# Step 4: Split the dataset into features (X) and the target variable (y)\n",
        "X = data.drop('quality', axis=1)  # Features\n",
        "y = data['quality']  # Target variable\n",
        "\n",
        "# Step 5: Standardize the features\n",
        "scaler = StandardScaler()\n",
        "X_scaled = scaler.fit_transform(X)\n",
        "\n",
        "# Step 6: Split the data into training and testing sets\n",
        "X_train, X_test, y_train, y_test = train_test_split(X_scaled, y, test_size=0.2, random_state=42)\n",
        "\n",
        "# Optional: Check the shape of the training and testing sets\n",
        "print(\"Training set shape:\", X_train.shape, y_train.shape)\n",
        "print(\"Testing set shape:\", X_test.shape, y_test.shape)\n"
      ],
      "metadata": {
        "colab": {
          "base_uri": "https://localhost:8080/"
        },
        "id": "5Umh1X_rUlPg",
        "outputId": "3fabb397-0f52-45e1-dd62-b69535264ab7"
      },
      "execution_count": null,
      "outputs": [
        {
          "output_type": "stream",
          "name": "stdout",
          "text": [
            "   fixed acidity  volatile acidity  citric acid  residual sugar  chlorides  \\\n",
            "0            7.4              0.70         0.00             1.9      0.076   \n",
            "1            7.8              0.88         0.00             2.6      0.098   \n",
            "2            7.8              0.76         0.04             2.3      0.092   \n",
            "3           11.2              0.28         0.56             1.9      0.075   \n",
            "4            7.4              0.70         0.00             1.9      0.076   \n",
            "\n",
            "   free sulfur dioxide  total sulfur dioxide  density    pH  sulphates  \\\n",
            "0                 11.0                  34.0   0.9978  3.51       0.56   \n",
            "1                 25.0                  67.0   0.9968  3.20       0.68   \n",
            "2                 15.0                  54.0   0.9970  3.26       0.65   \n",
            "3                 17.0                  60.0   0.9980  3.16       0.58   \n",
            "4                 11.0                  34.0   0.9978  3.51       0.56   \n",
            "\n",
            "   alcohol  quality  \n",
            "0      9.4        5  \n",
            "1      9.8        5  \n",
            "2      9.8        5  \n",
            "3      9.8        6  \n",
            "4      9.4        5  \n",
            "<class 'pandas.core.frame.DataFrame'>\n",
            "RangeIndex: 1599 entries, 0 to 1598\n",
            "Data columns (total 12 columns):\n",
            " #   Column                Non-Null Count  Dtype  \n",
            "---  ------                --------------  -----  \n",
            " 0   fixed acidity         1599 non-null   float64\n",
            " 1   volatile acidity      1599 non-null   float64\n",
            " 2   citric acid           1599 non-null   float64\n",
            " 3   residual sugar        1599 non-null   float64\n",
            " 4   chlorides             1599 non-null   float64\n",
            " 5   free sulfur dioxide   1599 non-null   float64\n",
            " 6   total sulfur dioxide  1599 non-null   float64\n",
            " 7   density               1599 non-null   float64\n",
            " 8   pH                    1599 non-null   float64\n",
            " 9   sulphates             1599 non-null   float64\n",
            " 10  alcohol               1599 non-null   float64\n",
            " 11  quality               1599 non-null   int64  \n",
            "dtypes: float64(11), int64(1)\n",
            "memory usage: 150.0 KB\n",
            "None\n",
            "       fixed acidity  volatile acidity  citric acid  residual sugar  \\\n",
            "count    1599.000000       1599.000000  1599.000000     1599.000000   \n",
            "mean        8.319637          0.527821     0.270976        2.538806   \n",
            "std         1.741096          0.179060     0.194801        1.409928   \n",
            "min         4.600000          0.120000     0.000000        0.900000   \n",
            "25%         7.100000          0.390000     0.090000        1.900000   \n",
            "50%         7.900000          0.520000     0.260000        2.200000   \n",
            "75%         9.200000          0.640000     0.420000        2.600000   \n",
            "max        15.900000          1.580000     1.000000       15.500000   \n",
            "\n",
            "         chlorides  free sulfur dioxide  total sulfur dioxide      density  \\\n",
            "count  1599.000000          1599.000000           1599.000000  1599.000000   \n",
            "mean      0.087467            15.874922             46.467792     0.996747   \n",
            "std       0.047065            10.460157             32.895324     0.001887   \n",
            "min       0.012000             1.000000              6.000000     0.990070   \n",
            "25%       0.070000             7.000000             22.000000     0.995600   \n",
            "50%       0.079000            14.000000             38.000000     0.996750   \n",
            "75%       0.090000            21.000000             62.000000     0.997835   \n",
            "max       0.611000            72.000000            289.000000     1.003690   \n",
            "\n",
            "                pH    sulphates      alcohol      quality  \n",
            "count  1599.000000  1599.000000  1599.000000  1599.000000  \n",
            "mean      3.311113     0.658149    10.422983     5.636023  \n",
            "std       0.154386     0.169507     1.065668     0.807569  \n",
            "min       2.740000     0.330000     8.400000     3.000000  \n",
            "25%       3.210000     0.550000     9.500000     5.000000  \n",
            "50%       3.310000     0.620000    10.200000     6.000000  \n",
            "75%       3.400000     0.730000    11.100000     6.000000  \n",
            "max       4.010000     2.000000    14.900000     8.000000  \n",
            "fixed acidity           0\n",
            "volatile acidity        0\n",
            "citric acid             0\n",
            "residual sugar          0\n",
            "chlorides               0\n",
            "free sulfur dioxide     0\n",
            "total sulfur dioxide    0\n",
            "density                 0\n",
            "pH                      0\n",
            "sulphates               0\n",
            "alcohol                 0\n",
            "quality                 0\n",
            "dtype: int64\n",
            "Training set shape: (1279, 11) (1279,)\n",
            "Testing set shape: (320, 11) (320,)\n"
          ]
        }
      ]
    },
    {
      "cell_type": "code",
      "source": [
        "# Hey there! Let's dive into some data analysis magic, shall we?\n",
        "import pandas as pd\n",
        "from sklearn.model_selection import train_test_split\n",
        "from sklearn.preprocessing import StandardScaler\n",
        "from sklearn.linear_model import LinearRegression, Lasso, Ridge, ElasticNet\n",
        "from sklearn.metrics import mean_squared_error, r2_score\n",
        "\n",
        "# First things first, we need to get our hands on some data.\n",
        "url = \"https://archive.ics.uci.edu/ml/machine-learning-databases/wine-quality/winequality-red.csv\"\n",
        "data = pd.read_csv(url, sep=';')\n",
        "\n",
        "# Now, let's split our data into features and the target variable.\n",
        "X = data.drop('quality', axis=1)\n",
        "y = data['quality']\n",
        "\n",
        "# With our data in hand, we split it into training and testing sets.\n",
        "X_train, X_test, y_train, y_test = train_test_split(X, y, test_size=0.2, random_state=42)\n",
        "\n",
        "# Time to prep our data for modeling - let's scale those features!\n",
        "scaler = StandardScaler()\n",
        "X_train_scaled = scaler.fit_transform(X_train)\n",
        "X_test_scaled = scaler.transform(X_test)\n",
        "\n",
        "# Alright, now let's get into the fun part - exploring different regression models.\n",
        "\n",
        "# First up, the trusty Linear Regression (our baseline model).\n",
        "lr = LinearRegression()\n",
        "lr.fit(X_train_scaled, y_train)\n",
        "lr_pred = lr.predict(X_test_scaled)\n",
        "lr_mse = mean_squared_error(y_test, lr_pred)\n",
        "lr_r2 = r2_score(y_test, lr_pred)\n",
        "print(\"Linear Regression Mean Squared Error (MSE):\", lr_mse)\n",
        "print(\"Linear Regression R-squared:\", lr_r2)\n",
        "\n",
        "# Now, let's spice things up with Lasso Regression (L1 regularization).\n",
        "lasso = Lasso(alpha=0.1)\n",
        "lasso.fit(X_train_scaled, y_train)\n",
        "lasso_pred = lasso.predict(X_test_scaled)\n",
        "lasso_mse = mean_squared_error(y_test, lasso_pred)\n",
        "lasso_r2 = r2_score(y_test, lasso_pred)\n",
        "print(\"Lasso Regression Mean Squared Error (MSE):\", lasso_mse)\n",
        "print(\"Lasso Regression R-squared:\", lasso_r2)\n",
        "\n",
        "# Moving along, we have Ridge Regression (L2 regularization).\n",
        "ridge = Ridge(alpha=0.1)\n",
        "ridge.fit(X_train_scaled, y_train)\n",
        "ridge_pred = ridge.predict(X_test_scaled)\n",
        "ridge_mse = mean_squared_error(y_test, ridge_pred)\n",
        "ridge_r2 = r2_score(y_test, ridge_pred)\n",
        "print(\"Ridge Regression Mean Squared Error (MSE):\", ridge_mse)\n",
        "print(\"Ridge Regression R-squared:\", ridge_r2)\n",
        "\n",
        "# Last but not least, let's experiment with Elastic Net Regression (combining L1 and L2 regularization).\n",
        "elastic_net = ElasticNet(alpha=0.1, l1_ratio=0.5)\n",
        "elastic_net.fit(X_train_scaled, y_train)\n",
        "elastic_net_pred = elastic_net.predict(X_test_scaled)\n",
        "elastic_net_mse = mean_squared_error(y_test, elastic_net_pred)\n",
        "elastic_net_r2 = r2_score(y_test, elastic_net_pred)\n",
        "print(\"Elastic Net Regression Mean Squared Error (MSE):\", elastic_net_mse)\n",
        "print(\"Elastic Net Regression R-squared:\", elastic_net_r2)\n"
      ],
      "metadata": {
        "colab": {
          "base_uri": "https://localhost:8080/"
        },
        "id": "i4RTkWA07k4c",
        "outputId": "4f8c0cf6-ade5-45a8-9051-ed3b8c15b2a5"
      },
      "execution_count": null,
      "outputs": [
        {
          "output_type": "stream",
          "name": "stdout",
          "text": [
            "Linear Regression Mean Squared Error (MSE): 0.390025143963955\n",
            "Linear Regression R-squared: 0.40318034127962177\n",
            "Lasso Regression Mean Squared Error (MSE): 0.4392249149065927\n",
            "Lasso Regression R-squared: 0.327894450209431\n",
            "Ridge Regression Mean Squared Error (MSE): 0.3900264044148274\n",
            "Ridge Regression R-squared: 0.40317841252740894\n",
            "Elastic Net Regression Mean Squared Error (MSE): 0.41492127773606596\n",
            "Elastic Net Regression R-squared: 0.3650840741766441\n"
          ]
        }
      ]
    },
    {
      "cell_type": "code",
      "source": [
        "# Alright, let's dive into some machine learning fun! 🚀\n",
        "import pandas as pd\n",
        "from sklearn.model_selection import train_test_split\n",
        "from sklearn.preprocessing import StandardScaler\n",
        "from sklearn.svm import SVR\n",
        "from sklearn.metrics import mean_squared_error, r2_score\n",
        "\n",
        "# First things first, let's grab our dataset.\n",
        "url = \"https://archive.ics.uci.edu/ml/machine-learning-databases/wine-quality/winequality-red.csv\"\n",
        "data = pd.read_csv(url, sep=';')\n",
        "\n",
        "# Now, let's split our data into features and the target variable.\n",
        "X = data.drop('quality', axis=1)\n",
        "y = data['quality']\n",
        "\n",
        "# Time to split our data into training and testing sets.\n",
        "X_train, X_test, y_train, y_test = train_test_split(X, y, test_size=0.2, random_state=42)\n",
        "\n",
        "# Next up, let's make sure our features are scaled properly.\n",
        "scaler = StandardScaler()\n",
        "X_train_scaled = scaler.fit_transform(X_train)\n",
        "X_test_scaled = scaler.transform(X_test)\n",
        "\n",
        "# Now, let's bring in the Support Vector Regression (SVR) magic with L2 regularization (Ridge).\n",
        "svr = SVR(kernel='linear', C=1.0, epsilon=0.1)\n",
        "svr.fit(X_train_scaled, y_train)\n",
        "svr_pred = svr.predict(X_test_scaled)\n",
        "\n",
        "# Time to see how well our SVR model with L2 regularization (Ridge) performs.\n",
        "svr_mse = mean_squared_error(y_test, svr_pred)\n",
        "svr_r2 = r2_score(y_test, svr_pred)\n",
        "print(\"Support Vector Regression (SVR) with L2 regularization (Ridge) - Mean Squared Error (MSE):\", svr_mse)\n",
        "print(\"Support Vector Regression (SVR) with L2 regularization (Ridge) - R-squared:\", svr_r2)\n"
      ],
      "metadata": {
        "colab": {
          "base_uri": "https://localhost:8080/"
        },
        "id": "KZILohj87x76",
        "outputId": "f1919311-c692-462c-dad5-ca298cd3cb39"
      },
      "execution_count": null,
      "outputs": [
        {
          "output_type": "stream",
          "name": "stdout",
          "text": [
            "Support Vector Regression (SVR) with L2 regularization (Ridge) - Mean Squared Error (MSE): 0.39663419885253093\n",
            "Support Vector Regression (SVR) with L2 regularization (Ridge) - R-squared: 0.3930671115453136\n"
          ]
        }
      ]
    },
    {
      "cell_type": "code",
      "source": [
        "import pandas as pd\n",
        "from sklearn.model_selection import train_test_split\n",
        "from sklearn.preprocessing import StandardScaler\n",
        "from sklearn.linear_model import Ridge, Lasso\n",
        "from sklearn.svm import SVR\n",
        "from sklearn.metrics import mean_squared_error, r2_score\n",
        "\n",
        "# Load the dataset\n",
        "url = \"https://archive.ics.uci.edu/ml/machine-learning-databases/wine-quality/winequality-red.csv\"\n",
        "data = pd.read_csv(url, sep=';')\n",
        "\n",
        "# Split features and target variable\n",
        "X = data.drop('quality', axis=1)\n",
        "y = data['quality']\n",
        "\n",
        "# Standardize features\n",
        "scaler = StandardScaler()\n",
        "X_scaled = scaler.fit_transform(X)\n",
        "\n",
        "# Split data into train and test sets\n",
        "X_train, X_test, y_train, y_test = train_test_split(X_scaled, y, test_size=0.2, random_state=42)\n",
        "\n",
        "# Regularized Linear Regression (Ridge)\n",
        "ridge = Ridge(alpha=1.0)\n",
        "ridge.fit(X_train, y_train)\n",
        "ridge_pred = ridge.predict(X_test)\n",
        "ridge_mse = mean_squared_error(y_test, ridge_pred)\n",
        "ridge_r2 = r2_score(y_test, ridge_pred)\n",
        "print(\"Ridge Regression MSE:\", ridge_mse)\n",
        "print(\"Ridge Regression R-squared:\", ridge_r2)\n",
        "\n",
        "# Regularized Linear Regression (Lasso)\n",
        "lasso = Lasso(alpha=1.0)\n",
        "lasso.fit(X_train, y_train)\n",
        "lasso_pred = lasso.predict(X_test)\n",
        "lasso_mse = mean_squared_error(y_test, lasso_pred)\n",
        "lasso_r2 = r2_score(y_test, lasso_pred)\n",
        "print(\"Lasso Regression MSE:\", lasso_mse)\n",
        "print(\"Lasso Regression R-squared:\", lasso_r2)\n",
        "\n",
        "# Support Vector Regression (SVR) with L2 regularization (Ridge)\n",
        "svr = SVR(kernel='linear', C=1.0, epsilon=0.1)\n",
        "svr.fit(X_train, y_train)\n",
        "svr_pred = svr.predict(X_test)\n",
        "svr_mse = mean_squared_error(y_test, svr_pred)\n",
        "svr_r2 = r2_score(y_test, svr_pred)\n",
        "print(\"SVR (Ridge) MSE:\", svr_mse)\n",
        "print(\"SVR (Ridge) R-squared:\", svr_r2)\n"
      ],
      "metadata": {
        "colab": {
          "base_uri": "https://localhost:8080/"
        },
        "id": "HHvFN1peVuso",
        "outputId": "0bc777db-83b6-433a-bd2c-699f4739da03"
      },
      "execution_count": null,
      "outputs": [
        {
          "output_type": "stream",
          "name": "stdout",
          "text": [
            "Ridge Regression MSE: 0.390036580824497\n",
            "Ridge Regression R-squared: 0.4031628405022716\n",
            "Lasso Regression MSE: 0.6571600689645265\n",
            "Lasso Regression R-squared: -0.005591701339940913\n",
            "SVR (Ridge) MSE: 0.3966236876138224\n",
            "SVR (Ridge) R-squared: 0.3930831959285792\n"
          ]
        }
      ]
    },
    {
      "cell_type": "code",
      "source": [
        "import pandas as pd\n",
        "from sklearn.preprocessing import StandardScaler\n",
        "from sklearn.linear_model import Ridge\n",
        "\n",
        "# Load the new data (example)\n",
        "new_data = pd.DataFrame({\n",
        "    'fixed acidity': [7.2],\n",
        "    'volatile acidity': [0.4],\n",
        "    'citric acid': [0.35],\n",
        "    'residual sugar': [6.0],\n",
        "    'chlorides': [0.067],\n",
        "    'free sulfur dioxide': [18.0],\n",
        "    'total sulfur dioxide': [41.0],\n",
        "    'density': [0.994],\n",
        "    'pH': [3.4],\n",
        "    'sulphates': [0.65],\n",
        "    'alcohol': [11.0]\n",
        "})\n",
        "\n",
        "# Standardize the features of the new data\n",
        "scaler = StandardScaler()\n",
        "new_data_scaled = scaler.fit_transform(new_data)\n",
        "\n",
        "# Trained Ridge Regression model\n",
        "ridge = Ridge(alpha=1.0)\n",
        "# Assuming X_train and y_train are the training data used to train the model\n",
        "ridge.fit(X_train, y_train)\n",
        "\n",
        "# Predict using the trained model\n",
        "predictions = ridge.predict(new_data_scaled)\n",
        "\n",
        "print(\"Predicted wine quality:\", predictions)\n"
      ],
      "metadata": {
        "colab": {
          "base_uri": "https://localhost:8080/"
        },
        "id": "ZAZclMF9WEJT",
        "outputId": "71585c48-bd7a-4e9b-b883-14e2db01b27c"
      },
      "execution_count": null,
      "outputs": [
        {
          "output_type": "stream",
          "name": "stdout",
          "text": [
            "Predicted wine quality: [5.62941953]\n"
          ]
        }
      ]
    },
    {
      "cell_type": "code",
      "source": [],
      "metadata": {
        "id": "2zvaH-MK3_rT"
      },
      "execution_count": null,
      "outputs": []
    }
  ]
}